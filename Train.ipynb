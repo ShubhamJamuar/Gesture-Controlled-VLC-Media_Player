{
 "cells": [
  {
   "cell_type": "code",
   "execution_count": 1,
   "metadata": {},
   "outputs": [],
   "source": [
    "from Lib.data_loader import DataLoader\n",
    "from Lib.utils import mkdirs\n",
    "import Lib.image as img\n",
    "from Lib.resnet_model import Resnet3DBuilder\n",
    "from Lib.HistoryGraph import HistoryGraph\n",
    "import keras \n",
    "import tensorflow\n",
    "import os"
   ]
  },
  {
   "cell_type": "code",
   "execution_count": 2,
   "metadata": {},
   "outputs": [],
   "source": [
    "from math import ceil"
   ]
  },
  {
   "cell_type": "code",
   "execution_count": 3,
   "metadata": {},
   "outputs": [],
   "source": [
    "from keras.optimizers import SGD"
   ]
  },
  {
   "cell_type": "code",
   "execution_count": 4,
   "metadata": {},
   "outputs": [],
   "source": [
    "from keras.callbacks import ModelCheckpoint"
   ]
  },
  {
   "cell_type": "code",
   "execution_count": 16,
   "metadata": {},
   "outputs": [],
   "source": [
    "target_size=(64,96)\n",
    "nb_frames=16\n",
    "nb_classes=27\n",
    "skip=1\n",
    "batch_size=64\n",
    "input_shape=(nb_frames,)+target_size+(3,)"
   ]
  },
  {
   "cell_type": "code",
   "execution_count": 6,
   "metadata": {},
   "outputs": [],
   "source": [
    "workers = 8\n",
    "use_multiprocessing = False\n",
    "max_queue_size = 20"
   ]
  },
  {
   "cell_type": "code",
   "execution_count": 7,
   "metadata": {},
   "outputs": [],
   "source": [
    "data_root = r\"D:\\20bn jester\"\n",
    "csv_labels = r\"D:\\20bn jester\\jester-v1-labels.csv\"\n",
    "csv_train =  r\"D:\\20bn jester\\jester-v1-train.csv\"\n",
    "csv_val =  r\"D:\\20bn jester\\jester-v1-validation.csv\"\n",
    "csv_test =  r\"D:\\20bn jester\\jester-v1-test.csv\"\n",
    "data_vid =  r\"D:\\20bn jester\\20bn-jester-v1\"\n",
    "model_name=\"resnet_3d_model\"\n",
    "data_model=r\"D:\\20bn jester\\model\"\n"
   ]
  },
  {
   "cell_type": "code",
   "execution_count": 8,
   "metadata": {},
   "outputs": [],
   "source": [
    "path_model=os.path.join(data_root,data_model,model_name)\n",
    "path_vid= os.path.join(data_root,data_vid)\n",
    "path_labels= os.path.join(data_root,csv_labels)\n",
    "path_train= os.path.join(data_root,csv_train)\n",
    "path_val= os.path.join(data_root,csv_val)\n",
    "path_test= os.path.join(data_root,csv_test)"
   ]
  },
  {
   "cell_type": "code",
   "execution_count": 9,
   "metadata": {},
   "outputs": [],
   "source": [
    "data = DataLoader(path_vid, path_labels, path_train, path_val, path_test)\n",
    "mkdirs(path_model,0o755)\n",
    "mkdirs(os.path.join(path_model,\"graphs\"),0o755)"
   ]
  },
  {
   "cell_type": "code",
   "execution_count": 10,
   "metadata": {},
   "outputs": [
    {
     "name": "stdout",
     "output_type": "stream",
     "text": [
      "Found 118562 video folders belonging to 27 classes.\n",
      "Found 14787 video folders belonging to 27 classes.\n"
     ]
    }
   ],
   "source": [
    "gen=img.ImageDataGenerator()\n",
    "gen_train=gen.flow_video_from_dataframe(data.train_df,path_vid,path_classes=path_labels,x_col=\"video_id\",y_col=\"label\",target_size=target_size,batch_size=batch_size,nb_frames=nb_frames,skip=skip)\n",
    "gen_val=gen_train=gen.flow_video_from_dataframe(data.val_df,path_vid,path_classes=path_labels,x_col=\"video_id\",y_col=\"label\",target_size=target_size,batch_size=batch_size,nb_frames=nb_frames,skip=skip)"
   ]
  },
  {
   "cell_type": "code",
   "execution_count": 11,
   "metadata": {},
   "outputs": [],
   "source": [
    "resnet_model=Resnet3DBuilder.build_resnet_101(input_shape,nb_classes,drop_rate= 0.5)\n",
    "optimizer= SGD(learning_rate=0.01,momentum=0.9,decay=0.0001)\n",
    "resnet_model.compile(optimizer= optimizer, loss=\"categorical_crossentropy\", metrics=['accuracy'])\n",
    "model_file=os.path.join(path_model,\"resnetmodel.hdf5\")"
   ]
  },
  {
   "cell_type": "code",
   "execution_count": 12,
   "metadata": {},
   "outputs": [],
   "source": [
    "model_checkpointer=ModelCheckpoint(model_file,monitor='val_acc', verbose=1, save_best_only=True,mode='max')"
   ]
  },
  {
   "cell_type": "code",
   "execution_count": 13,
   "metadata": {},
   "outputs": [],
   "source": [
    "history_graph=HistoryGraph(model_path_name=os.path.join(path_model,\"graphs\"))"
   ]
  },
  {
   "cell_type": "code",
   "execution_count": 14,
   "metadata": {},
   "outputs": [],
   "source": [
    "nb_sample_train = data.train_df[\"video_id\"].size\n",
    "nb_sample_val = data.val_df[\"video_id\"].size"
   ]
  },
  {
   "cell_type": "code",
   "execution_count": null,
   "metadata": {},
   "outputs": [],
   "source": [
    "resnet_model.fit_generator(\n",
    "                            generator= gen_train,\n",
    "                            steps_per_epoch= ceil(nb_sample_train/batch_size),\n",
    "                            epoch=50,\n",
    "                            validation_data=gen_val,\n",
    "                            validation_steps=30,\n",
    "                            shuffle=True,\n",
    "                            verbose=1,\n",
    "                            workers=workers,\n",
    "                            max_queue_size= max_queue_size,\n",
    "                            use_multiprocessing= use_multiprocessing,\n",
    "                            callbacks= [model_checkpointer, history_graph])"
   ]
  },
  {
   "cell_type": "code",
   "execution_count": null,
   "metadata": {},
   "outputs": [],
   "source": [
    "resnet_model.fit_generator(\n",
    "                            generator= gen_train,\n",
    "                            steps_per_epoch= ceil(nb_sample_train/batch_size),\n",
    "                            epochs=100,\n",
    "                            validation_data=gen_val,\n",
    "                            validation_steps=30,\n",
    "                            shuffle=True,\n",
    "                            verbose=1,\n",
    "                            workers=workers,\n",
    "                            max_queue_size= max_queue_size,\n",
    "                            use_multiprocessing= use_multiprocessing,\n",
    "                            callbacks= [model_checkpointer, history_graph])"
   ]
  }
 ],
 "metadata": {
  "kernelspec": {
   "display_name": "Python 3",
   "language": "python",
   "name": "python3"
  },
  "language_info": {
   "codemirror_mode": {
    "name": "ipython",
    "version": 3
   },
   "file_extension": ".py",
   "mimetype": "text/x-python",
   "name": "python",
   "nbconvert_exporter": "python",
   "pygments_lexer": "ipython3",
   "version": "3.8.2"
  }
 },
 "nbformat": 4,
 "nbformat_minor": 4
}
