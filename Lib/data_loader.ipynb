{
 "cells": [
  {
   "cell_type": "code",
   "execution_count": 4,
   "metadata": {},
   "outputs": [],
   "source": [
    "import pandas as pd\n",
    "import numpy as np"
   ]
  },
  {
   "cell_type": "code",
   "execution_count": 5,
   "metadata": {},
   "outputs": [],
   "source": [
    "#path_videos\n",
    "#path_labels\n",
    "#path_train\n",
    "#path_validation\n",
    "#path_test\n",
    "class DataLoader():\n",
    "    def __init__(self,path_vid,path_labels,path_train=None,path_val=None,path_test=None):\n",
    "        self.path_vid=path_vid\n",
    "        self.path_labels=path_labels\n",
    "        self.path_train=path_train\n",
    "        self.path_val=path_val\n",
    "        self.path_test=path_test\n",
    "        \n",
    "        self.get_labels(path_labels)\n",
    "        \n",
    "        if self.path_train:\n",
    "            self.train_df=self.load_video_labels(self.path_train)\n",
    "        \n",
    "        if self.path_val:\n",
    "            self.val_df=self.load_video_labels(self.path_val)\n",
    "        \n",
    "        if self.path_test:\n",
    "            self.test_df=self.load_video_labels(self.path_test,mode=\"input\")\n",
    "        \n",
    "    def get_labels(self,path_labels):\n",
    "        self.label_df=pd.read_csv(path_labels,names=['label'])\n",
    "        \n",
    "        self.labels=[str(x[0]) for x in self.label_df.values]\n",
    "        \n",
    "        self.n_labels=len(self.labels)\n",
    "        #dictionaries to convert labels to int and vice versa\n",
    "        \n",
    "        self.label_to_int=dict(zip(self.labels,range(self.n_labels)))\n",
    "        \n",
    "        self.int_to_label={value:key for key,value in self.label_to_int.items()}\n",
    "        \n",
    "    def load_video_labels(self,path_subset,mode=\"label\"):\n",
    "        if mode==\"input\":\n",
    "            names=[\"video_id\"]\n",
    "        \n",
    "        elif mode==\"label\":\n",
    "            names=[\"video_id\",\"label\"]\n",
    "        \n",
    "        df= pd.read_csv(path_subset,sep=';',names=names)\n",
    "        \n",
    "        if mode==\"label\":\n",
    "            df=df[df.label.isin(self.labels)]\n",
    "            \n",
    "        return df"
   ]
  },
  {
   "cell_type": "code",
   "execution_count": null,
   "metadata": {},
   "outputs": [],
   "source": []
  },
  {
   "cell_type": "code",
   "execution_count": null,
   "metadata": {},
   "outputs": [],
   "source": []
  }
 ],
 "metadata": {
  "kernelspec": {
   "display_name": "Python 3",
   "language": "python",
   "name": "python3"
  },
  "language_info": {
   "codemirror_mode": {
    "name": "ipython",
    "version": 3
   },
   "file_extension": ".py",
   "mimetype": "text/x-python",
   "name": "python",
   "nbconvert_exporter": "python",
   "pygments_lexer": "ipython3",
   "version": "3.8.2"
  }
 },
 "nbformat": 4,
 "nbformat_minor": 4
}
