{
 "cells": [
  {
   "cell_type": "code",
   "execution_count": 1,
   "metadata": {},
   "outputs": [],
   "source": [
    "from keras.callbacks import Callback\n",
    "import matplotlib.pyplot as plt"
   ]
  },
  {
   "cell_type": "code",
   "execution_count": 2,
   "metadata": {},
   "outputs": [],
   "source": [
    "import json"
   ]
  },
  {
   "cell_type": "code",
   "execution_count": 3,
   "metadata": {},
   "outputs": [],
   "source": [
    "class HistoryGraph(Callback):\n",
    "    def __init__(self,model_path_name):\n",
    "        self.model_path_name=model_path_name\n",
    "    def on_train_begin(self,logs = None):\n",
    "        self.epoch=[]\n",
    "        self.history={}\n",
    "        \n",
    "    def on_epoch_end(self, epochs, logs=None):\n",
    "        logs= logs or {}\n",
    "        self.epoch.append(epoch)\n",
    "        for k,v in logs.items():\n",
    "            self.history.setdefault(k,[]).append(v)\n",
    "        self.save_training_history(self.model_path_name, self.history)\n",
    "    def save_training_history(self, path, history):\n",
    "        for metric in history:\n",
    "            if \"val\" not in metric:\n",
    "                plt.clf()\n",
    "                history[metric]=list(map(float, history[metric]))\n",
    "                plt.plot(history[metric])\n",
    "                plt.plot(history[\"val_\" + metric])\n",
    "                plt.title(\"model_\" + metric)\n",
    "                plt.xlabel('epoch')\n",
    "                plt.ylabel(metric)\n",
    "                plt.legend(['train','test'])\n",
    "                plt.gcf().savefig(path + '/' + metric +'_history' + '.jpg')\n",
    "        with open(path + '/log' + '.json','w') as fp:\n",
    "            json.dump(history, fp, indent=True)"
   ]
  },
  {
   "cell_type": "code",
   "execution_count": null,
   "metadata": {},
   "outputs": [],
   "source": []
  }
 ],
 "metadata": {
  "kernelspec": {
   "display_name": "Python 3",
   "language": "python",
   "name": "python3"
  },
  "language_info": {
   "codemirror_mode": {
    "name": "ipython",
    "version": 3
   },
   "file_extension": ".py",
   "mimetype": "text/x-python",
   "name": "python",
   "nbconvert_exporter": "python",
   "pygments_lexer": "ipython3",
   "version": "3.8.2"
  }
 },
 "nbformat": 4,
 "nbformat_minor": 4
}
